{
  "nbformat": 4,
  "nbformat_minor": 0,
  "metadata": {
    "colab": {
      "provenance": [],
      "authorship_tag": "ABX9TyP4jxFRfquOh7R1HSsBj79F",
      "include_colab_link": true
    },
    "kernelspec": {
      "name": "python3",
      "display_name": "Python 3"
    },
    "language_info": {
      "name": "python"
    }
  },
  "cells": [
    {
      "cell_type": "markdown",
      "metadata": {
        "id": "view-in-github",
        "colab_type": "text"
      },
      "source": [
        "<a href=\"https://colab.research.google.com/github/Dh0t/NLP/blob/main/Many_to_one.ipynb\" target=\"_parent\"><img src=\"https://colab.research.google.com/assets/colab-badge.svg\" alt=\"Open In Colab\"/></a>"
      ]
    },
    {
      "cell_type": "code",
      "metadata": {
        "colab": {
          "base_uri": "https://localhost:8080/"
        },
        "id": "6c521294",
        "outputId": "f3a186ee-3a61-4c0a-a7d8-ac3dbc3ee219"
      },
      "source": [
        "import numpy as np\n",
        "from sklearn.model_selection import train_test_split\n",
        "\n",
        "# 1. Buat data dummy sekuens numerik\n",
        "num_sequences = 1000\n",
        "sequence_length = 10\n",
        "X = np.random.rand(num_sequences, sequence_length)\n",
        "\n",
        "# 2. Buat label dummy (misal: rata-rata dari sekuens)\n",
        "y = np.mean(X, axis=1)\n",
        "\n",
        "# 3. Bagi data menjadi set pelatihan dan pengujian\n",
        "X_train, X_test, y_train, y_test = train_test_split(X, y, test_size=0.2, random_state=42)\n",
        "\n",
        "print(\"Shape of X_train:\", X_train.shape)\n",
        "print(\"Shape of X_test:\", X_test.shape)\n",
        "print(\"Shape of y_train:\", y_train.shape)\n",
        "print(\"Shape of y_test:\", y_test.shape)"
      ],
      "execution_count": 1,
      "outputs": [
        {
          "output_type": "stream",
          "name": "stdout",
          "text": [
            "Shape of X_train: (800, 10)\n",
            "Shape of X_test: (200, 10)\n",
            "Shape of y_train: (800,)\n",
            "Shape of y_test: (200,)\n"
          ]
        }
      ]
    },
    {
      "cell_type": "code",
      "metadata": {
        "colab": {
          "base_uri": "https://localhost:8080/",
          "height": 248
        },
        "id": "6a6590b5",
        "outputId": "a6477361-056f-45bd-93b1-609550d384cf"
      },
      "source": [
        "from tensorflow.keras.models import Sequential\n",
        "from tensorflow.keras.layers import SimpleRNN, Dense\n",
        "\n",
        "# 2. Buat model Sequential\n",
        "model = Sequential()\n",
        "\n",
        "# 3. Tambahkan layer SimpleRNN\n",
        "# input_shape=(sequence_length, 1) karena setiap elemen dalam sekuens adalah skalar (1 fitur)\n",
        "model.add(SimpleRNN(units=32, input_shape=(sequence_length, 1), return_sequences=False))\n",
        "\n",
        "# 4. Tambahkan layer Dense sebagai layer output\n",
        "# 1 unit output untuk tugas regresi\n",
        "model.add(Dense(units=1))\n",
        "\n",
        "model.summary()"
      ],
      "execution_count": 2,
      "outputs": [
        {
          "output_type": "stream",
          "name": "stderr",
          "text": [
            "/usr/local/lib/python3.11/dist-packages/keras/src/layers/rnn/rnn.py:200: UserWarning: Do not pass an `input_shape`/`input_dim` argument to a layer. When using Sequential models, prefer using an `Input(shape)` object as the first layer in the model instead.\n",
            "  super().__init__(**kwargs)\n"
          ]
        },
        {
          "output_type": "display_data",
          "data": {
            "text/plain": [
              "\u001b[1mModel: \"sequential\"\u001b[0m\n"
            ],
            "text/html": [
              "<pre style=\"white-space:pre;overflow-x:auto;line-height:normal;font-family:Menlo,'DejaVu Sans Mono',consolas,'Courier New',monospace\"><span style=\"font-weight: bold\">Model: \"sequential\"</span>\n",
              "</pre>\n"
            ]
          },
          "metadata": {}
        },
        {
          "output_type": "display_data",
          "data": {
            "text/plain": [
              "┏━━━━━━━━━━━━━━━━━━━━━━━━━━━━━━━━━┳━━━━━━━━━━━━━━━━━━━━━━━━┳━━━━━━━━━━━━━━━┓\n",
              "┃\u001b[1m \u001b[0m\u001b[1mLayer (type)                   \u001b[0m\u001b[1m \u001b[0m┃\u001b[1m \u001b[0m\u001b[1mOutput Shape          \u001b[0m\u001b[1m \u001b[0m┃\u001b[1m \u001b[0m\u001b[1m      Param #\u001b[0m\u001b[1m \u001b[0m┃\n",
              "┡━━━━━━━━━━━━━━━━━━━━━━━━━━━━━━━━━╇━━━━━━━━━━━━━━━━━━━━━━━━╇━━━━━━━━━━━━━━━┩\n",
              "│ simple_rnn (\u001b[38;5;33mSimpleRNN\u001b[0m)          │ (\u001b[38;5;45mNone\u001b[0m, \u001b[38;5;34m32\u001b[0m)             │         \u001b[38;5;34m1,088\u001b[0m │\n",
              "├─────────────────────────────────┼────────────────────────┼───────────────┤\n",
              "│ dense (\u001b[38;5;33mDense\u001b[0m)                   │ (\u001b[38;5;45mNone\u001b[0m, \u001b[38;5;34m1\u001b[0m)              │            \u001b[38;5;34m33\u001b[0m │\n",
              "└─────────────────────────────────┴────────────────────────┴───────────────┘\n"
            ],
            "text/html": [
              "<pre style=\"white-space:pre;overflow-x:auto;line-height:normal;font-family:Menlo,'DejaVu Sans Mono',consolas,'Courier New',monospace\">┏━━━━━━━━━━━━━━━━━━━━━━━━━━━━━━━━━┳━━━━━━━━━━━━━━━━━━━━━━━━┳━━━━━━━━━━━━━━━┓\n",
              "┃<span style=\"font-weight: bold\"> Layer (type)                    </span>┃<span style=\"font-weight: bold\"> Output Shape           </span>┃<span style=\"font-weight: bold\">       Param # </span>┃\n",
              "┡━━━━━━━━━━━━━━━━━━━━━━━━━━━━━━━━━╇━━━━━━━━━━━━━━━━━━━━━━━━╇━━━━━━━━━━━━━━━┩\n",
              "│ simple_rnn (<span style=\"color: #0087ff; text-decoration-color: #0087ff\">SimpleRNN</span>)          │ (<span style=\"color: #00d7ff; text-decoration-color: #00d7ff\">None</span>, <span style=\"color: #00af00; text-decoration-color: #00af00\">32</span>)             │         <span style=\"color: #00af00; text-decoration-color: #00af00\">1,088</span> │\n",
              "├─────────────────────────────────┼────────────────────────┼───────────────┤\n",
              "│ dense (<span style=\"color: #0087ff; text-decoration-color: #0087ff\">Dense</span>)                   │ (<span style=\"color: #00d7ff; text-decoration-color: #00d7ff\">None</span>, <span style=\"color: #00af00; text-decoration-color: #00af00\">1</span>)              │            <span style=\"color: #00af00; text-decoration-color: #00af00\">33</span> │\n",
              "└─────────────────────────────────┴────────────────────────┴───────────────┘\n",
              "</pre>\n"
            ]
          },
          "metadata": {}
        },
        {
          "output_type": "display_data",
          "data": {
            "text/plain": [
              "\u001b[1m Total params: \u001b[0m\u001b[38;5;34m1,121\u001b[0m (4.38 KB)\n"
            ],
            "text/html": [
              "<pre style=\"white-space:pre;overflow-x:auto;line-height:normal;font-family:Menlo,'DejaVu Sans Mono',consolas,'Courier New',monospace\"><span style=\"font-weight: bold\"> Total params: </span><span style=\"color: #00af00; text-decoration-color: #00af00\">1,121</span> (4.38 KB)\n",
              "</pre>\n"
            ]
          },
          "metadata": {}
        },
        {
          "output_type": "display_data",
          "data": {
            "text/plain": [
              "\u001b[1m Trainable params: \u001b[0m\u001b[38;5;34m1,121\u001b[0m (4.38 KB)\n"
            ],
            "text/html": [
              "<pre style=\"white-space:pre;overflow-x:auto;line-height:normal;font-family:Menlo,'DejaVu Sans Mono',consolas,'Courier New',monospace\"><span style=\"font-weight: bold\"> Trainable params: </span><span style=\"color: #00af00; text-decoration-color: #00af00\">1,121</span> (4.38 KB)\n",
              "</pre>\n"
            ]
          },
          "metadata": {}
        },
        {
          "output_type": "display_data",
          "data": {
            "text/plain": [
              "\u001b[1m Non-trainable params: \u001b[0m\u001b[38;5;34m0\u001b[0m (0.00 B)\n"
            ],
            "text/html": [
              "<pre style=\"white-space:pre;overflow-x:auto;line-height:normal;font-family:Menlo,'DejaVu Sans Mono',consolas,'Courier New',monospace\"><span style=\"font-weight: bold\"> Non-trainable params: </span><span style=\"color: #00af00; text-decoration-color: #00af00\">0</span> (0.00 B)\n",
              "</pre>\n"
            ]
          },
          "metadata": {}
        }
      ]
    },
    {
      "cell_type": "code",
      "metadata": {
        "colab": {
          "base_uri": "https://localhost:8080/"
        },
        "id": "e3e2c340",
        "outputId": "f30a5d8d-d43a-4461-a977-3fa9b365b079"
      },
      "source": [
        "from tensorflow.keras.optimizers import Adam\n",
        "from tensorflow.keras.metrics import MeanAbsoluteError\n",
        "\n",
        "# 1. Tentukan fungsi loss yang sesuai untuk tugas regresi (misalnya, Mean Squared Error - MSE).\n",
        "loss_function = 'mse'  # Mean Squared Error\n",
        "\n",
        "# 2. Tentukan optimizer yang akan digunakan untuk melatih model (misalnya, Adam).\n",
        "optimizer = Adam()\n",
        "\n",
        "# 3. Tentukan metrik evaluasi yang relevan untuk tugas regresi (misalnya, Mean Absolute Error - MAE).\n",
        "metrics = [MeanAbsoluteError()]\n",
        "\n",
        "# 4. Kompilasi model menggunakan metode .compile() dengan parameter loss, optimizer, dan metrics yang telah ditentukan.\n",
        "model.compile(loss=loss_function,\n",
        "              optimizer=optimizer,\n",
        "              metrics=metrics)\n",
        "\n",
        "print(\"Model compiled successfully.\")"
      ],
      "execution_count": 3,
      "outputs": [
        {
          "output_type": "stream",
          "name": "stdout",
          "text": [
            "Model compiled successfully.\n"
          ]
        }
      ]
    },
    {
      "cell_type": "code",
      "metadata": {
        "colab": {
          "base_uri": "https://localhost:8080/"
        },
        "id": "b3f4e484",
        "outputId": "258b0774-3219-4379-c737-df1615736630"
      },
      "source": [
        "# Reshape X_train and X_test to have an additional dimension for the features\n",
        "X_train = X_train.reshape((X_train.shape[0], X_train.shape[1], 1))\n",
        "X_test = X_test.reshape((X_test.shape[0], X_test.shape[1], 1))\n",
        "\n",
        "# 1. Gunakan metode .fit() pada objek model untuk memulai proses pelatihan.\n",
        "# 2. Berikan data pelatihan (X_train dan y_train) ke metode .fit().\n",
        "# 3. Tentukan jumlah epoch untuk pelatihan. Misalnya, gunakan 100 epoch.\n",
        "epochs = 100\n",
        "# 4. Tentukan ukuran batch untuk pelatihan. Misalnya, gunakan ukuran batch 32.\n",
        "batch_size = 32\n",
        "# 5. Sertakan data validasi (X_test dan y_test) dalam metode .fit() untuk memantau kinerja model pada data yang belum terlihat selama pelatihan.\n",
        "history = model.fit(X_train, y_train,\n",
        "                    epochs=epochs,\n",
        "                    batch_size=batch_size,\n",
        "                    validation_data=(X_test, y_test))\n",
        "\n",
        "print(\"Model training completed.\")"
      ],
      "execution_count": 4,
      "outputs": [
        {
          "output_type": "stream",
          "name": "stdout",
          "text": [
            "Epoch 1/100\n",
            "\u001b[1m25/25\u001b[0m \u001b[32m━━━━━━━━━━━━━━━━━━━━\u001b[0m\u001b[37m\u001b[0m \u001b[1m2s\u001b[0m 23ms/step - loss: 0.0300 - mean_absolute_error: 0.1271 - val_loss: 0.0023 - val_mean_absolute_error: 0.0378\n",
            "Epoch 2/100\n",
            "\u001b[1m25/25\u001b[0m \u001b[32m━━━━━━━━━━━━━━━━━━━━\u001b[0m\u001b[37m\u001b[0m \u001b[1m1s\u001b[0m 7ms/step - loss: 0.0023 - mean_absolute_error: 0.0382 - val_loss: 0.0011 - val_mean_absolute_error: 0.0274\n",
            "Epoch 3/100\n",
            "\u001b[1m25/25\u001b[0m \u001b[32m━━━━━━━━━━━━━━━━━━━━\u001b[0m\u001b[37m\u001b[0m \u001b[1m0s\u001b[0m 7ms/step - loss: 0.0010 - mean_absolute_error: 0.0259 - val_loss: 5.7427e-04 - val_mean_absolute_error: 0.0195\n",
            "Epoch 4/100\n",
            "\u001b[1m25/25\u001b[0m \u001b[32m━━━━━━━━━━━━━━━━━━━━\u001b[0m\u001b[37m\u001b[0m \u001b[1m0s\u001b[0m 7ms/step - loss: 5.7621e-04 - mean_absolute_error: 0.0193 - val_loss: 4.1822e-04 - val_mean_absolute_error: 0.0166\n",
            "Epoch 5/100\n",
            "\u001b[1m25/25\u001b[0m \u001b[32m━━━━━━━━━━━━━━━━━━━━\u001b[0m\u001b[37m\u001b[0m \u001b[1m0s\u001b[0m 7ms/step - loss: 4.1723e-04 - mean_absolute_error: 0.0164 - val_loss: 4.2554e-04 - val_mean_absolute_error: 0.0171\n",
            "Epoch 6/100\n",
            "\u001b[1m25/25\u001b[0m \u001b[32m━━━━━━━━━━━━━━━━━━━━\u001b[0m\u001b[37m\u001b[0m \u001b[1m0s\u001b[0m 8ms/step - loss: 4.1576e-04 - mean_absolute_error: 0.0167 - val_loss: 3.5450e-04 - val_mean_absolute_error: 0.0153\n",
            "Epoch 7/100\n",
            "\u001b[1m25/25\u001b[0m \u001b[32m━━━━━━━━━━━━━━━━━━━━\u001b[0m\u001b[37m\u001b[0m \u001b[1m0s\u001b[0m 7ms/step - loss: 3.5613e-04 - mean_absolute_error: 0.0154 - val_loss: 3.2223e-04 - val_mean_absolute_error: 0.0147\n",
            "Epoch 8/100\n",
            "\u001b[1m25/25\u001b[0m \u001b[32m━━━━━━━━━━━━━━━━━━━━\u001b[0m\u001b[37m\u001b[0m \u001b[1m0s\u001b[0m 8ms/step - loss: 3.6927e-04 - mean_absolute_error: 0.0154 - val_loss: 3.0042e-04 - val_mean_absolute_error: 0.0140\n",
            "Epoch 9/100\n",
            "\u001b[1m25/25\u001b[0m \u001b[32m━━━━━━━━━━━━━━━━━━━━\u001b[0m\u001b[37m\u001b[0m \u001b[1m0s\u001b[0m 8ms/step - loss: 3.1154e-04 - mean_absolute_error: 0.0143 - val_loss: 3.0764e-04 - val_mean_absolute_error: 0.0135\n",
            "Epoch 10/100\n",
            "\u001b[1m25/25\u001b[0m \u001b[32m━━━━━━━━━━━━━━━━━━━━\u001b[0m\u001b[37m\u001b[0m \u001b[1m0s\u001b[0m 7ms/step - loss: 3.1612e-04 - mean_absolute_error: 0.0142 - val_loss: 3.3807e-04 - val_mean_absolute_error: 0.0142\n",
            "Epoch 11/100\n",
            "\u001b[1m25/25\u001b[0m \u001b[32m━━━━━━━━━━━━━━━━━━━━\u001b[0m\u001b[37m\u001b[0m \u001b[1m0s\u001b[0m 7ms/step - loss: 3.6767e-04 - mean_absolute_error: 0.0155 - val_loss: 2.8393e-04 - val_mean_absolute_error: 0.0135\n",
            "Epoch 12/100\n",
            "\u001b[1m25/25\u001b[0m \u001b[32m━━━━━━━━━━━━━━━━━━━━\u001b[0m\u001b[37m\u001b[0m \u001b[1m0s\u001b[0m 7ms/step - loss: 2.7027e-04 - mean_absolute_error: 0.0133 - val_loss: 3.1226e-04 - val_mean_absolute_error: 0.0147\n",
            "Epoch 13/100\n",
            "\u001b[1m25/25\u001b[0m \u001b[32m━━━━━━━━━━━━━━━━━━━━\u001b[0m\u001b[37m\u001b[0m \u001b[1m0s\u001b[0m 7ms/step - loss: 2.4563e-04 - mean_absolute_error: 0.0126 - val_loss: 2.6526e-04 - val_mean_absolute_error: 0.0135\n",
            "Epoch 14/100\n",
            "\u001b[1m25/25\u001b[0m \u001b[32m━━━━━━━━━━━━━━━━━━━━\u001b[0m\u001b[37m\u001b[0m \u001b[1m0s\u001b[0m 7ms/step - loss: 2.4318e-04 - mean_absolute_error: 0.0126 - val_loss: 2.4734e-04 - val_mean_absolute_error: 0.0129\n",
            "Epoch 15/100\n",
            "\u001b[1m25/25\u001b[0m \u001b[32m━━━━━━━━━━━━━━━━━━━━\u001b[0m\u001b[37m\u001b[0m \u001b[1m0s\u001b[0m 9ms/step - loss: 2.2317e-04 - mean_absolute_error: 0.0123 - val_loss: 2.1050e-04 - val_mean_absolute_error: 0.0120\n",
            "Epoch 16/100\n",
            "\u001b[1m25/25\u001b[0m \u001b[32m━━━━━━━━━━━━━━━━━━━━\u001b[0m\u001b[37m\u001b[0m \u001b[1m0s\u001b[0m 7ms/step - loss: 2.1579e-04 - mean_absolute_error: 0.0120 - val_loss: 2.4024e-04 - val_mean_absolute_error: 0.0128\n",
            "Epoch 17/100\n",
            "\u001b[1m25/25\u001b[0m \u001b[32m━━━━━━━━━━━━━━━━━━━━\u001b[0m\u001b[37m\u001b[0m \u001b[1m0s\u001b[0m 8ms/step - loss: 2.0566e-04 - mean_absolute_error: 0.0112 - val_loss: 1.9655e-04 - val_mean_absolute_error: 0.0116\n",
            "Epoch 18/100\n",
            "\u001b[1m25/25\u001b[0m \u001b[32m━━━━━━━━━━━━━━━━━━━━\u001b[0m\u001b[37m\u001b[0m \u001b[1m0s\u001b[0m 8ms/step - loss: 1.9185e-04 - mean_absolute_error: 0.0112 - val_loss: 2.1775e-04 - val_mean_absolute_error: 0.0111\n",
            "Epoch 19/100\n",
            "\u001b[1m25/25\u001b[0m \u001b[32m━━━━━━━━━━━━━━━━━━━━\u001b[0m\u001b[37m\u001b[0m \u001b[1m0s\u001b[0m 8ms/step - loss: 2.3131e-04 - mean_absolute_error: 0.0122 - val_loss: 1.8437e-04 - val_mean_absolute_error: 0.0111\n",
            "Epoch 20/100\n",
            "\u001b[1m25/25\u001b[0m \u001b[32m━━━━━━━━━━━━━━━━━━━━\u001b[0m\u001b[37m\u001b[0m \u001b[1m0s\u001b[0m 8ms/step - loss: 1.6995e-04 - mean_absolute_error: 0.0105 - val_loss: 1.7145e-04 - val_mean_absolute_error: 0.0105\n",
            "Epoch 21/100\n",
            "\u001b[1m25/25\u001b[0m \u001b[32m━━━━━━━━━━━━━━━━━━━━\u001b[0m\u001b[37m\u001b[0m \u001b[1m0s\u001b[0m 7ms/step - loss: 1.7173e-04 - mean_absolute_error: 0.0105 - val_loss: 1.4617e-04 - val_mean_absolute_error: 0.0095\n",
            "Epoch 22/100\n",
            "\u001b[1m25/25\u001b[0m \u001b[32m━━━━━━━━━━━━━━━━━━━━\u001b[0m\u001b[37m\u001b[0m \u001b[1m0s\u001b[0m 9ms/step - loss: 1.4395e-04 - mean_absolute_error: 0.0096 - val_loss: 1.8654e-04 - val_mean_absolute_error: 0.0106\n",
            "Epoch 23/100\n",
            "\u001b[1m25/25\u001b[0m \u001b[32m━━━━━━━━━━━━━━━━━━━━\u001b[0m\u001b[37m\u001b[0m \u001b[1m0s\u001b[0m 8ms/step - loss: 2.0328e-04 - mean_absolute_error: 0.0116 - val_loss: 2.5067e-04 - val_mean_absolute_error: 0.0119\n",
            "Epoch 24/100\n",
            "\u001b[1m25/25\u001b[0m \u001b[32m━━━━━━━━━━━━━━━━━━━━\u001b[0m\u001b[37m\u001b[0m \u001b[1m0s\u001b[0m 8ms/step - loss: 1.8965e-04 - mean_absolute_error: 0.0112 - val_loss: 1.2413e-04 - val_mean_absolute_error: 0.0087\n",
            "Epoch 25/100\n",
            "\u001b[1m25/25\u001b[0m \u001b[32m━━━━━━━━━━━━━━━━━━━━\u001b[0m\u001b[37m\u001b[0m \u001b[1m0s\u001b[0m 8ms/step - loss: 1.5946e-04 - mean_absolute_error: 0.0103 - val_loss: 1.3517e-04 - val_mean_absolute_error: 0.0096\n",
            "Epoch 26/100\n",
            "\u001b[1m25/25\u001b[0m \u001b[32m━━━━━━━━━━━━━━━━━━━━\u001b[0m\u001b[37m\u001b[0m \u001b[1m0s\u001b[0m 9ms/step - loss: 1.3488e-04 - mean_absolute_error: 0.0093 - val_loss: 1.1701e-04 - val_mean_absolute_error: 0.0087\n",
            "Epoch 27/100\n",
            "\u001b[1m25/25\u001b[0m \u001b[32m━━━━━━━━━━━━━━━━━━━━\u001b[0m\u001b[37m\u001b[0m \u001b[1m0s\u001b[0m 10ms/step - loss: 1.4055e-04 - mean_absolute_error: 0.0095 - val_loss: 1.1197e-04 - val_mean_absolute_error: 0.0085\n",
            "Epoch 28/100\n",
            "\u001b[1m25/25\u001b[0m \u001b[32m━━━━━━━━━━━━━━━━━━━━\u001b[0m\u001b[37m\u001b[0m \u001b[1m0s\u001b[0m 11ms/step - loss: 1.1395e-04 - mean_absolute_error: 0.0086 - val_loss: 1.1377e-04 - val_mean_absolute_error: 0.0084\n",
            "Epoch 29/100\n",
            "\u001b[1m25/25\u001b[0m \u001b[32m━━━━━━━━━━━━━━━━━━━━\u001b[0m\u001b[37m\u001b[0m \u001b[1m0s\u001b[0m 10ms/step - loss: 1.2319e-04 - mean_absolute_error: 0.0088 - val_loss: 1.5066e-04 - val_mean_absolute_error: 0.0102\n",
            "Epoch 30/100\n",
            "\u001b[1m25/25\u001b[0m \u001b[32m━━━━━━━━━━━━━━━━━━━━\u001b[0m\u001b[37m\u001b[0m \u001b[1m0s\u001b[0m 13ms/step - loss: 1.2902e-04 - mean_absolute_error: 0.0091 - val_loss: 1.1668e-04 - val_mean_absolute_error: 0.0087\n",
            "Epoch 31/100\n",
            "\u001b[1m25/25\u001b[0m \u001b[32m━━━━━━━━━━━━━━━━━━━━\u001b[0m\u001b[37m\u001b[0m \u001b[1m1s\u001b[0m 10ms/step - loss: 1.2274e-04 - mean_absolute_error: 0.0090 - val_loss: 9.8326e-05 - val_mean_absolute_error: 0.0078\n",
            "Epoch 32/100\n",
            "\u001b[1m25/25\u001b[0m \u001b[32m━━━━━━━━━━━━━━━━━━━━\u001b[0m\u001b[37m\u001b[0m \u001b[1m0s\u001b[0m 15ms/step - loss: 1.0460e-04 - mean_absolute_error: 0.0083 - val_loss: 1.0784e-04 - val_mean_absolute_error: 0.0080\n",
            "Epoch 33/100\n",
            "\u001b[1m25/25\u001b[0m \u001b[32m━━━━━━━━━━━━━━━━━━━━\u001b[0m\u001b[37m\u001b[0m \u001b[1m1s\u001b[0m 11ms/step - loss: 8.8508e-05 - mean_absolute_error: 0.0075 - val_loss: 9.0501e-05 - val_mean_absolute_error: 0.0073\n",
            "Epoch 34/100\n",
            "\u001b[1m25/25\u001b[0m \u001b[32m━━━━━━━━━━━━━━━━━━━━\u001b[0m\u001b[37m\u001b[0m \u001b[1m1s\u001b[0m 9ms/step - loss: 1.0735e-04 - mean_absolute_error: 0.0084 - val_loss: 9.2790e-05 - val_mean_absolute_error: 0.0075\n",
            "Epoch 35/100\n",
            "\u001b[1m25/25\u001b[0m \u001b[32m━━━━━━━━━━━━━━━━━━━━\u001b[0m\u001b[37m\u001b[0m \u001b[1m0s\u001b[0m 8ms/step - loss: 1.0890e-04 - mean_absolute_error: 0.0082 - val_loss: 9.0449e-05 - val_mean_absolute_error: 0.0076\n",
            "Epoch 36/100\n",
            "\u001b[1m25/25\u001b[0m \u001b[32m━━━━━━━━━━━━━━━━━━━━\u001b[0m\u001b[37m\u001b[0m \u001b[1m0s\u001b[0m 7ms/step - loss: 1.2285e-04 - mean_absolute_error: 0.0086 - val_loss: 1.0465e-04 - val_mean_absolute_error: 0.0085\n",
            "Epoch 37/100\n",
            "\u001b[1m25/25\u001b[0m \u001b[32m━━━━━━━━━━━━━━━━━━━━\u001b[0m\u001b[37m\u001b[0m \u001b[1m0s\u001b[0m 7ms/step - loss: 9.4395e-05 - mean_absolute_error: 0.0077 - val_loss: 8.3576e-05 - val_mean_absolute_error: 0.0072\n",
            "Epoch 38/100\n",
            "\u001b[1m25/25\u001b[0m \u001b[32m━━━━━━━━━━━━━━━━━━━━\u001b[0m\u001b[37m\u001b[0m \u001b[1m0s\u001b[0m 8ms/step - loss: 9.8103e-05 - mean_absolute_error: 0.0081 - val_loss: 7.4400e-05 - val_mean_absolute_error: 0.0068\n",
            "Epoch 39/100\n",
            "\u001b[1m25/25\u001b[0m \u001b[32m━━━━━━━━━━━━━━━━━━━━\u001b[0m\u001b[37m\u001b[0m \u001b[1m0s\u001b[0m 7ms/step - loss: 8.8255e-05 - mean_absolute_error: 0.0074 - val_loss: 8.0693e-05 - val_mean_absolute_error: 0.0068\n",
            "Epoch 40/100\n",
            "\u001b[1m25/25\u001b[0m \u001b[32m━━━━━━━━━━━━━━━━━━━━\u001b[0m\u001b[37m\u001b[0m \u001b[1m0s\u001b[0m 8ms/step - loss: 8.6385e-05 - mean_absolute_error: 0.0076 - val_loss: 7.1977e-05 - val_mean_absolute_error: 0.0064\n",
            "Epoch 41/100\n",
            "\u001b[1m25/25\u001b[0m \u001b[32m━━━━━━━━━━━━━━━━━━━━\u001b[0m\u001b[37m\u001b[0m \u001b[1m0s\u001b[0m 8ms/step - loss: 8.8660e-05 - mean_absolute_error: 0.0075 - val_loss: 7.1448e-05 - val_mean_absolute_error: 0.0069\n",
            "Epoch 42/100\n",
            "\u001b[1m25/25\u001b[0m \u001b[32m━━━━━━━━━━━━━━━━━━━━\u001b[0m\u001b[37m\u001b[0m \u001b[1m0s\u001b[0m 7ms/step - loss: 8.3923e-05 - mean_absolute_error: 0.0075 - val_loss: 8.8324e-05 - val_mean_absolute_error: 0.0071\n",
            "Epoch 43/100\n",
            "\u001b[1m25/25\u001b[0m \u001b[32m━━━━━━━━━━━━━━━━━━━━\u001b[0m\u001b[37m\u001b[0m \u001b[1m0s\u001b[0m 8ms/step - loss: 8.8962e-05 - mean_absolute_error: 0.0072 - val_loss: 6.3861e-05 - val_mean_absolute_error: 0.0062\n",
            "Epoch 44/100\n",
            "\u001b[1m25/25\u001b[0m \u001b[32m━━━━━━━━━━━━━━━━━━━━\u001b[0m\u001b[37m\u001b[0m \u001b[1m0s\u001b[0m 8ms/step - loss: 6.8126e-05 - mean_absolute_error: 0.0067 - val_loss: 1.0207e-04 - val_mean_absolute_error: 0.0076\n",
            "Epoch 45/100\n",
            "\u001b[1m25/25\u001b[0m \u001b[32m━━━━━━━━━━━━━━━━━━━━\u001b[0m\u001b[37m\u001b[0m \u001b[1m0s\u001b[0m 8ms/step - loss: 8.9291e-05 - mean_absolute_error: 0.0075 - val_loss: 8.2356e-05 - val_mean_absolute_error: 0.0075\n",
            "Epoch 46/100\n",
            "\u001b[1m25/25\u001b[0m \u001b[32m━━━━━━━━━━━━━━━━━━━━\u001b[0m\u001b[37m\u001b[0m \u001b[1m0s\u001b[0m 7ms/step - loss: 1.0070e-04 - mean_absolute_error: 0.0081 - val_loss: 7.2965e-05 - val_mean_absolute_error: 0.0070\n",
            "Epoch 47/100\n",
            "\u001b[1m25/25\u001b[0m \u001b[32m━━━━━━━━━━━━━━━━━━━━\u001b[0m\u001b[37m\u001b[0m \u001b[1m0s\u001b[0m 8ms/step - loss: 7.8677e-05 - mean_absolute_error: 0.0071 - val_loss: 5.7879e-05 - val_mean_absolute_error: 0.0060\n",
            "Epoch 48/100\n",
            "\u001b[1m25/25\u001b[0m \u001b[32m━━━━━━━━━━━━━━━━━━━━\u001b[0m\u001b[37m\u001b[0m \u001b[1m0s\u001b[0m 7ms/step - loss: 7.5579e-05 - mean_absolute_error: 0.0069 - val_loss: 8.4575e-05 - val_mean_absolute_error: 0.0076\n",
            "Epoch 49/100\n",
            "\u001b[1m25/25\u001b[0m \u001b[32m━━━━━━━━━━━━━━━━━━━━\u001b[0m\u001b[37m\u001b[0m \u001b[1m0s\u001b[0m 8ms/step - loss: 9.4570e-05 - mean_absolute_error: 0.0079 - val_loss: 8.6408e-05 - val_mean_absolute_error: 0.0070\n",
            "Epoch 50/100\n",
            "\u001b[1m25/25\u001b[0m \u001b[32m━━━━━━━━━━━━━━━━━━━━\u001b[0m\u001b[37m\u001b[0m \u001b[1m0s\u001b[0m 7ms/step - loss: 8.1593e-05 - mean_absolute_error: 0.0071 - val_loss: 6.1064e-05 - val_mean_absolute_error: 0.0064\n",
            "Epoch 51/100\n",
            "\u001b[1m25/25\u001b[0m \u001b[32m━━━━━━━━━━━━━━━━━━━━\u001b[0m\u001b[37m\u001b[0m \u001b[1m0s\u001b[0m 7ms/step - loss: 7.9175e-05 - mean_absolute_error: 0.0072 - val_loss: 1.2883e-04 - val_mean_absolute_error: 0.0091\n",
            "Epoch 52/100\n",
            "\u001b[1m25/25\u001b[0m \u001b[32m━━━━━━━━━━━━━━━━━━━━\u001b[0m\u001b[37m\u001b[0m \u001b[1m0s\u001b[0m 7ms/step - loss: 1.0804e-04 - mean_absolute_error: 0.0084 - val_loss: 6.2038e-05 - val_mean_absolute_error: 0.0066\n",
            "Epoch 53/100\n",
            "\u001b[1m25/25\u001b[0m \u001b[32m━━━━━━━━━━━━━━━━━━━━\u001b[0m\u001b[37m\u001b[0m \u001b[1m0s\u001b[0m 8ms/step - loss: 5.9342e-05 - mean_absolute_error: 0.0062 - val_loss: 8.1381e-05 - val_mean_absolute_error: 0.0072\n",
            "Epoch 54/100\n",
            "\u001b[1m25/25\u001b[0m \u001b[32m━━━━━━━━━━━━━━━━━━━━\u001b[0m\u001b[37m\u001b[0m \u001b[1m0s\u001b[0m 7ms/step - loss: 7.9816e-05 - mean_absolute_error: 0.0071 - val_loss: 1.0229e-04 - val_mean_absolute_error: 0.0079\n",
            "Epoch 55/100\n",
            "\u001b[1m25/25\u001b[0m \u001b[32m━━━━━━━━━━━━━━━━━━━━\u001b[0m\u001b[37m\u001b[0m \u001b[1m0s\u001b[0m 7ms/step - loss: 6.7113e-05 - mean_absolute_error: 0.0065 - val_loss: 1.0631e-04 - val_mean_absolute_error: 0.0087\n",
            "Epoch 56/100\n",
            "\u001b[1m25/25\u001b[0m \u001b[32m━━━━━━━━━━━━━━━━━━━━\u001b[0m\u001b[37m\u001b[0m \u001b[1m0s\u001b[0m 7ms/step - loss: 7.3677e-05 - mean_absolute_error: 0.0069 - val_loss: 6.2298e-05 - val_mean_absolute_error: 0.0063\n",
            "Epoch 57/100\n",
            "\u001b[1m25/25\u001b[0m \u001b[32m━━━━━━━━━━━━━━━━━━━━\u001b[0m\u001b[37m\u001b[0m \u001b[1m0s\u001b[0m 8ms/step - loss: 6.1952e-05 - mean_absolute_error: 0.0063 - val_loss: 4.9925e-05 - val_mean_absolute_error: 0.0058\n",
            "Epoch 58/100\n",
            "\u001b[1m25/25\u001b[0m \u001b[32m━━━━━━━━━━━━━━━━━━━━\u001b[0m\u001b[37m\u001b[0m \u001b[1m0s\u001b[0m 7ms/step - loss: 5.4501e-05 - mean_absolute_error: 0.0060 - val_loss: 4.7395e-05 - val_mean_absolute_error: 0.0052\n",
            "Epoch 59/100\n",
            "\u001b[1m25/25\u001b[0m \u001b[32m━━━━━━━━━━━━━━━━━━━━\u001b[0m\u001b[37m\u001b[0m \u001b[1m0s\u001b[0m 8ms/step - loss: 5.1179e-05 - mean_absolute_error: 0.0058 - val_loss: 4.3926e-05 - val_mean_absolute_error: 0.0054\n",
            "Epoch 60/100\n",
            "\u001b[1m25/25\u001b[0m \u001b[32m━━━━━━━━━━━━━━━━━━━━\u001b[0m\u001b[37m\u001b[0m \u001b[1m0s\u001b[0m 8ms/step - loss: 4.6012e-05 - mean_absolute_error: 0.0054 - val_loss: 7.1349e-05 - val_mean_absolute_error: 0.0064\n",
            "Epoch 61/100\n",
            "\u001b[1m25/25\u001b[0m \u001b[32m━━━━━━━━━━━━━━━━━━━━\u001b[0m\u001b[37m\u001b[0m \u001b[1m0s\u001b[0m 8ms/step - loss: 6.2339e-05 - mean_absolute_error: 0.0064 - val_loss: 5.2594e-05 - val_mean_absolute_error: 0.0056\n",
            "Epoch 62/100\n",
            "\u001b[1m25/25\u001b[0m \u001b[32m━━━━━━━━━━━━━━━━━━━━\u001b[0m\u001b[37m\u001b[0m \u001b[1m0s\u001b[0m 7ms/step - loss: 6.5562e-05 - mean_absolute_error: 0.0064 - val_loss: 9.2498e-05 - val_mean_absolute_error: 0.0083\n",
            "Epoch 63/100\n",
            "\u001b[1m25/25\u001b[0m \u001b[32m━━━━━━━━━━━━━━━━━━━━\u001b[0m\u001b[37m\u001b[0m \u001b[1m0s\u001b[0m 7ms/step - loss: 8.7857e-05 - mean_absolute_error: 0.0075 - val_loss: 4.2952e-05 - val_mean_absolute_error: 0.0054\n",
            "Epoch 64/100\n",
            "\u001b[1m25/25\u001b[0m \u001b[32m━━━━━━━━━━━━━━━━━━━━\u001b[0m\u001b[37m\u001b[0m \u001b[1m0s\u001b[0m 8ms/step - loss: 4.8271e-05 - mean_absolute_error: 0.0056 - val_loss: 4.3979e-05 - val_mean_absolute_error: 0.0052\n",
            "Epoch 65/100\n",
            "\u001b[1m25/25\u001b[0m \u001b[32m━━━━━━━━━━━━━━━━━━━━\u001b[0m\u001b[37m\u001b[0m \u001b[1m0s\u001b[0m 8ms/step - loss: 6.3193e-05 - mean_absolute_error: 0.0062 - val_loss: 5.0398e-05 - val_mean_absolute_error: 0.0056\n",
            "Epoch 66/100\n",
            "\u001b[1m25/25\u001b[0m \u001b[32m━━━━━━━━━━━━━━━━━━━━\u001b[0m\u001b[37m\u001b[0m \u001b[1m0s\u001b[0m 7ms/step - loss: 5.1966e-05 - mean_absolute_error: 0.0057 - val_loss: 4.2610e-05 - val_mean_absolute_error: 0.0050\n",
            "Epoch 67/100\n",
            "\u001b[1m25/25\u001b[0m \u001b[32m━━━━━━━━━━━━━━━━━━━━\u001b[0m\u001b[37m\u001b[0m \u001b[1m0s\u001b[0m 7ms/step - loss: 3.7818e-05 - mean_absolute_error: 0.0048 - val_loss: 5.6462e-05 - val_mean_absolute_error: 0.0062\n",
            "Epoch 68/100\n",
            "\u001b[1m25/25\u001b[0m \u001b[32m━━━━━━━━━━━━━━━━━━━━\u001b[0m\u001b[37m\u001b[0m \u001b[1m0s\u001b[0m 7ms/step - loss: 4.7741e-05 - mean_absolute_error: 0.0056 - val_loss: 4.4663e-05 - val_mean_absolute_error: 0.0050\n",
            "Epoch 69/100\n",
            "\u001b[1m25/25\u001b[0m \u001b[32m━━━━━━━━━━━━━━━━━━━━\u001b[0m\u001b[37m\u001b[0m \u001b[1m0s\u001b[0m 8ms/step - loss: 5.9634e-05 - mean_absolute_error: 0.0061 - val_loss: 3.6226e-05 - val_mean_absolute_error: 0.0048\n",
            "Epoch 70/100\n",
            "\u001b[1m25/25\u001b[0m \u001b[32m━━━━━━━━━━━━━━━━━━━━\u001b[0m\u001b[37m\u001b[0m \u001b[1m0s\u001b[0m 7ms/step - loss: 4.0158e-05 - mean_absolute_error: 0.0051 - val_loss: 4.6262e-05 - val_mean_absolute_error: 0.0055\n",
            "Epoch 71/100\n",
            "\u001b[1m25/25\u001b[0m \u001b[32m━━━━━━━━━━━━━━━━━━━━\u001b[0m\u001b[37m\u001b[0m \u001b[1m0s\u001b[0m 10ms/step - loss: 4.0358e-05 - mean_absolute_error: 0.0050 - val_loss: 3.4146e-05 - val_mean_absolute_error: 0.0044\n",
            "Epoch 72/100\n",
            "\u001b[1m25/25\u001b[0m \u001b[32m━━━━━━━━━━━━━━━━━━━━\u001b[0m\u001b[37m\u001b[0m \u001b[1m0s\u001b[0m 13ms/step - loss: 3.8209e-05 - mean_absolute_error: 0.0049 - val_loss: 3.7304e-05 - val_mean_absolute_error: 0.0050\n",
            "Epoch 73/100\n",
            "\u001b[1m25/25\u001b[0m \u001b[32m━━━━━━━━━━━━━━━━━━━━\u001b[0m\u001b[37m\u001b[0m \u001b[1m1s\u001b[0m 11ms/step - loss: 4.5135e-05 - mean_absolute_error: 0.0054 - val_loss: 5.8701e-05 - val_mean_absolute_error: 0.0066\n",
            "Epoch 74/100\n",
            "\u001b[1m25/25\u001b[0m \u001b[32m━━━━━━━━━━━━━━━━━━━━\u001b[0m\u001b[37m\u001b[0m \u001b[1m0s\u001b[0m 12ms/step - loss: 4.3680e-05 - mean_absolute_error: 0.0053 - val_loss: 4.1301e-05 - val_mean_absolute_error: 0.0053\n",
            "Epoch 75/100\n",
            "\u001b[1m25/25\u001b[0m \u001b[32m━━━━━━━━━━━━━━━━━━━━\u001b[0m\u001b[37m\u001b[0m \u001b[1m0s\u001b[0m 11ms/step - loss: 5.1204e-05 - mean_absolute_error: 0.0058 - val_loss: 3.6872e-05 - val_mean_absolute_error: 0.0050\n",
            "Epoch 76/100\n",
            "\u001b[1m25/25\u001b[0m \u001b[32m━━━━━━━━━━━━━━━━━━━━\u001b[0m\u001b[37m\u001b[0m \u001b[1m1s\u001b[0m 14ms/step - loss: 3.4498e-05 - mean_absolute_error: 0.0047 - val_loss: 4.7999e-05 - val_mean_absolute_error: 0.0055\n",
            "Epoch 77/100\n",
            "\u001b[1m25/25\u001b[0m \u001b[32m━━━━━━━━━━━━━━━━━━━━\u001b[0m\u001b[37m\u001b[0m \u001b[1m0s\u001b[0m 9ms/step - loss: 3.7681e-05 - mean_absolute_error: 0.0049 - val_loss: 4.0319e-05 - val_mean_absolute_error: 0.0051\n",
            "Epoch 78/100\n",
            "\u001b[1m25/25\u001b[0m \u001b[32m━━━━━━━━━━━━━━━━━━━━\u001b[0m\u001b[37m\u001b[0m \u001b[1m0s\u001b[0m 8ms/step - loss: 4.3290e-05 - mean_absolute_error: 0.0052 - val_loss: 3.4687e-05 - val_mean_absolute_error: 0.0046\n",
            "Epoch 79/100\n",
            "\u001b[1m25/25\u001b[0m \u001b[32m━━━━━━━━━━━━━━━━━━━━\u001b[0m\u001b[37m\u001b[0m \u001b[1m0s\u001b[0m 8ms/step - loss: 4.2886e-05 - mean_absolute_error: 0.0051 - val_loss: 4.8638e-05 - val_mean_absolute_error: 0.0055\n",
            "Epoch 80/100\n",
            "\u001b[1m25/25\u001b[0m \u001b[32m━━━━━━━━━━━━━━━━━━━━\u001b[0m\u001b[37m\u001b[0m \u001b[1m0s\u001b[0m 7ms/step - loss: 4.1772e-05 - mean_absolute_error: 0.0051 - val_loss: 3.8737e-05 - val_mean_absolute_error: 0.0053\n",
            "Epoch 81/100\n",
            "\u001b[1m25/25\u001b[0m \u001b[32m━━━━━━━━━━━━━━━━━━━━\u001b[0m\u001b[37m\u001b[0m \u001b[1m0s\u001b[0m 9ms/step - loss: 3.7125e-05 - mean_absolute_error: 0.0049 - val_loss: 3.0870e-05 - val_mean_absolute_error: 0.0046\n",
            "Epoch 82/100\n",
            "\u001b[1m25/25\u001b[0m \u001b[32m━━━━━━━━━━━━━━━━━━━━\u001b[0m\u001b[37m\u001b[0m \u001b[1m0s\u001b[0m 7ms/step - loss: 4.3472e-05 - mean_absolute_error: 0.0053 - val_loss: 3.4010e-05 - val_mean_absolute_error: 0.0046\n",
            "Epoch 83/100\n",
            "\u001b[1m25/25\u001b[0m \u001b[32m━━━━━━━━━━━━━━━━━━━━\u001b[0m\u001b[37m\u001b[0m \u001b[1m0s\u001b[0m 9ms/step - loss: 3.4492e-05 - mean_absolute_error: 0.0047 - val_loss: 5.0233e-05 - val_mean_absolute_error: 0.0054\n",
            "Epoch 84/100\n",
            "\u001b[1m25/25\u001b[0m \u001b[32m━━━━━━━━━━━━━━━━━━━━\u001b[0m\u001b[37m\u001b[0m \u001b[1m0s\u001b[0m 7ms/step - loss: 5.1312e-05 - mean_absolute_error: 0.0056 - val_loss: 3.5348e-05 - val_mean_absolute_error: 0.0050\n",
            "Epoch 85/100\n",
            "\u001b[1m25/25\u001b[0m \u001b[32m━━━━━━━━━━━━━━━━━━━━\u001b[0m\u001b[37m\u001b[0m \u001b[1m0s\u001b[0m 7ms/step - loss: 3.5237e-05 - mean_absolute_error: 0.0048 - val_loss: 3.8224e-05 - val_mean_absolute_error: 0.0046\n",
            "Epoch 86/100\n",
            "\u001b[1m25/25\u001b[0m \u001b[32m━━━━━━━━━━━━━━━━━━━━\u001b[0m\u001b[37m\u001b[0m \u001b[1m0s\u001b[0m 9ms/step - loss: 3.3252e-05 - mean_absolute_error: 0.0046 - val_loss: 2.5325e-05 - val_mean_absolute_error: 0.0040\n",
            "Epoch 87/100\n",
            "\u001b[1m25/25\u001b[0m \u001b[32m━━━━━━━━━━━━━━━━━━━━\u001b[0m\u001b[37m\u001b[0m \u001b[1m0s\u001b[0m 8ms/step - loss: 3.4148e-05 - mean_absolute_error: 0.0046 - val_loss: 2.4700e-05 - val_mean_absolute_error: 0.0039\n",
            "Epoch 88/100\n",
            "\u001b[1m25/25\u001b[0m \u001b[32m━━━━━━━━━━━━━━━━━━━━\u001b[0m\u001b[37m\u001b[0m \u001b[1m0s\u001b[0m 7ms/step - loss: 3.3026e-05 - mean_absolute_error: 0.0045 - val_loss: 3.1013e-05 - val_mean_absolute_error: 0.0045\n",
            "Epoch 89/100\n",
            "\u001b[1m25/25\u001b[0m \u001b[32m━━━━━━━━━━━━━━━━━━━━\u001b[0m\u001b[37m\u001b[0m \u001b[1m0s\u001b[0m 7ms/step - loss: 3.2832e-05 - mean_absolute_error: 0.0044 - val_loss: 3.5559e-05 - val_mean_absolute_error: 0.0046\n",
            "Epoch 90/100\n",
            "\u001b[1m25/25\u001b[0m \u001b[32m━━━━━━━━━━━━━━━━━━━━\u001b[0m\u001b[37m\u001b[0m \u001b[1m0s\u001b[0m 8ms/step - loss: 3.3480e-05 - mean_absolute_error: 0.0047 - val_loss: 3.1467e-05 - val_mean_absolute_error: 0.0046\n",
            "Epoch 91/100\n",
            "\u001b[1m25/25\u001b[0m \u001b[32m━━━━━━━━━━━━━━━━━━━━\u001b[0m\u001b[37m\u001b[0m \u001b[1m0s\u001b[0m 7ms/step - loss: 4.5659e-05 - mean_absolute_error: 0.0055 - val_loss: 2.1388e-05 - val_mean_absolute_error: 0.0036\n",
            "Epoch 92/100\n",
            "\u001b[1m25/25\u001b[0m \u001b[32m━━━━━━━━━━━━━━━━━━━━\u001b[0m\u001b[37m\u001b[0m \u001b[1m0s\u001b[0m 7ms/step - loss: 3.0330e-05 - mean_absolute_error: 0.0044 - val_loss: 3.0420e-05 - val_mean_absolute_error: 0.0042\n",
            "Epoch 93/100\n",
            "\u001b[1m25/25\u001b[0m \u001b[32m━━━━━━━━━━━━━━━━━━━━\u001b[0m\u001b[37m\u001b[0m \u001b[1m0s\u001b[0m 7ms/step - loss: 3.5333e-05 - mean_absolute_error: 0.0046 - val_loss: 2.5657e-05 - val_mean_absolute_error: 0.0041\n",
            "Epoch 94/100\n",
            "\u001b[1m25/25\u001b[0m \u001b[32m━━━━━━━━━━━━━━━━━━━━\u001b[0m\u001b[37m\u001b[0m \u001b[1m0s\u001b[0m 9ms/step - loss: 2.3939e-05 - mean_absolute_error: 0.0039 - val_loss: 2.2401e-05 - val_mean_absolute_error: 0.0037\n",
            "Epoch 95/100\n",
            "\u001b[1m25/25\u001b[0m \u001b[32m━━━━━━━━━━━━━━━━━━━━\u001b[0m\u001b[37m\u001b[0m \u001b[1m0s\u001b[0m 7ms/step - loss: 2.8023e-05 - mean_absolute_error: 0.0042 - val_loss: 3.3446e-05 - val_mean_absolute_error: 0.0043\n",
            "Epoch 96/100\n",
            "\u001b[1m25/25\u001b[0m \u001b[32m━━━━━━━━━━━━━━━━━━━━\u001b[0m\u001b[37m\u001b[0m \u001b[1m0s\u001b[0m 7ms/step - loss: 3.5645e-05 - mean_absolute_error: 0.0047 - val_loss: 2.7806e-05 - val_mean_absolute_error: 0.0044\n",
            "Epoch 97/100\n",
            "\u001b[1m25/25\u001b[0m \u001b[32m━━━━━━━━━━━━━━━━━━━━\u001b[0m\u001b[37m\u001b[0m \u001b[1m0s\u001b[0m 8ms/step - loss: 3.1101e-05 - mean_absolute_error: 0.0045 - val_loss: 1.9967e-05 - val_mean_absolute_error: 0.0035\n",
            "Epoch 98/100\n",
            "\u001b[1m25/25\u001b[0m \u001b[32m━━━━━━━━━━━━━━━━━━━━\u001b[0m\u001b[37m\u001b[0m \u001b[1m0s\u001b[0m 8ms/step - loss: 2.6795e-05 - mean_absolute_error: 0.0042 - val_loss: 3.6946e-05 - val_mean_absolute_error: 0.0052\n",
            "Epoch 99/100\n",
            "\u001b[1m25/25\u001b[0m \u001b[32m━━━━━━━━━━━━━━━━━━━━\u001b[0m\u001b[37m\u001b[0m \u001b[1m0s\u001b[0m 7ms/step - loss: 3.7357e-05 - mean_absolute_error: 0.0050 - val_loss: 3.6155e-05 - val_mean_absolute_error: 0.0048\n",
            "Epoch 100/100\n",
            "\u001b[1m25/25\u001b[0m \u001b[32m━━━━━━━━━━━━━━━━━━━━\u001b[0m\u001b[37m\u001b[0m \u001b[1m0s\u001b[0m 8ms/step - loss: 3.3231e-05 - mean_absolute_error: 0.0046 - val_loss: 2.9982e-05 - val_mean_absolute_error: 0.0046\n",
            "Model training completed.\n"
          ]
        }
      ]
    },
    {
      "cell_type": "code",
      "metadata": {
        "colab": {
          "base_uri": "https://localhost:8080/"
        },
        "id": "81617648",
        "outputId": "2178d3ec-0c08-449c-a6ac-efaab28f961a"
      },
      "source": [
        "# 1. Gunakan metode .evaluate() pada objek model.\n",
        "# 2. Berikan data pengujian (X_test dan y_test) ke metode .evaluate().\n",
        "# 3. Simpan hasil evaluasi dalam sebuah variabel.\n",
        "evaluation_results = model.evaluate(X_test, y_test, verbose=0)\n",
        "\n",
        "# 4. Cetak hasil evaluasi untuk melihat kinerja model pada data pengujian.\n",
        "print(\"Evaluation Results:\")\n",
        "print(f\"  Loss: {evaluation_results[0]:.4f}\")\n",
        "print(f\"  Mean Absolute Error: {evaluation_results[1]:.4f}\")"
      ],
      "execution_count": 5,
      "outputs": [
        {
          "output_type": "stream",
          "name": "stdout",
          "text": [
            "Evaluation Results:\n",
            "  Loss: 0.0000\n",
            "  Mean Absolute Error: 0.0046\n"
          ]
        }
      ]
    }
  ]
}