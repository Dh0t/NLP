{
  "nbformat": 4,
  "nbformat_minor": 0,
  "metadata": {
    "colab": {
      "provenance": [],
      "authorship_tag": "ABX9TyNVz9pBMxv4jO6AdGrYp+0O",
      "include_colab_link": true
    },
    "kernelspec": {
      "name": "python3",
      "display_name": "Python 3"
    },
    "language_info": {
      "name": "python"
    }
  },
  "cells": [
    {
      "cell_type": "markdown",
      "metadata": {
        "id": "view-in-github",
        "colab_type": "text"
      },
      "source": [
        "<a href=\"https://colab.research.google.com/github/Dh0t/NLP/blob/main/one_to_many.ipynb\" target=\"_parent\"><img src=\"https://colab.research.google.com/assets/colab-badge.svg\" alt=\"Open In Colab\"/></a>"
      ]
    },
    {
      "cell_type": "code",
      "metadata": {
        "colab": {
          "base_uri": "https://localhost:8080/"
        },
        "id": "ce1406d6",
        "outputId": "acf28219-8b08-4460-fb7a-993cf676c300"
      },
      "source": [
        "# Definisikan urutan input sampel sebagai array numerik tunggal\n",
        "input_sequences = np.array([[1], [2], [3], [4], [5]])\n",
        "\n",
        "# Definisikan urutan output yang sesuai dengan panjang variabel\n",
        "output_sequences = [\n",
        "    np.array([10, 20]),\n",
        "    np.array([30, 40, 50]),\n",
        "    np.array([60, 70]),\n",
        "    np.array([80, 90, 100, 110]),\n",
        "    np.array([120])\n",
        "]\n",
        "\n",
        "# Cetak urutan input dan output\n",
        "print(\"Input Sequences:\")\n",
        "print(input_sequences)\n",
        "print(\"\\nOutput Sequences:\")\n",
        "for seq in output_sequences:\n",
        "    print(seq)"
      ],
      "execution_count": 5,
      "outputs": [
        {
          "output_type": "stream",
          "name": "stdout",
          "text": [
            "Input Sequences:\n",
            "[[1]\n",
            " [2]\n",
            " [3]\n",
            " [4]\n",
            " [5]]\n",
            "\n",
            "Output Sequences:\n",
            "[10 20]\n",
            "[30 40 50]\n",
            "[60 70]\n",
            "[ 80  90 100 110]\n",
            "[120]\n"
          ]
        }
      ]
    },
    {
      "cell_type": "code",
      "metadata": {
        "colab": {
          "base_uri": "https://localhost:8080/",
          "height": 241
        },
        "id": "785425b2",
        "outputId": "baf914df-4691-4223-ba0b-c297925ea8f6"
      },
      "source": [
        "from tensorflow.keras.models import Sequential\n",
        "from tensorflow.keras.layers import LSTM, Dense, TimeDistributed, Input\n",
        "\n",
        "# Define the model\n",
        "model = Sequential()\n",
        "\n",
        "# Add an Input layer to explicitly define the input shape\n",
        "model.add(Input(shape=(1, 1)))\n",
        "\n",
        "# Add an LSTM layer\n",
        "# units: number of LSTM units\n",
        "# input_shape: (timesteps, features) - This is now handled by the Input layer\n",
        "# return_sequences: True because the TimeDistributed layer expects a sequence input\n",
        "model.add(LSTM(50, return_sequences=True))\n",
        "\n",
        "# Add a TimeDistributed Dense layer to output a sequence of predictions\n",
        "model.add(TimeDistributed(Dense(50, activation='relu')))\n",
        "\n",
        "# Add a final Dense layer to output a sequence of predictions\n",
        "# The number of units here should match the expected output feature size per timestep.\n",
        "# Based on the padding in the training step (padding to 10), let's set this to 10.\n",
        "model.add(Dense(10))\n",
        "\n",
        "# Display the model summary\n",
        "model.summary()"
      ],
      "execution_count": 6,
      "outputs": [
        {
          "output_type": "display_data",
          "data": {
            "text/plain": [
              "\u001b[1mModel: \"sequential_1\"\u001b[0m\n"
            ],
            "text/html": [
              "<pre style=\"white-space:pre;overflow-x:auto;line-height:normal;font-family:Menlo,'DejaVu Sans Mono',consolas,'Courier New',monospace\"><span style=\"font-weight: bold\">Model: \"sequential_1\"</span>\n",
              "</pre>\n"
            ]
          },
          "metadata": {}
        },
        {
          "output_type": "display_data",
          "data": {
            "text/plain": [
              "┏━━━━━━━━━━━━━━━━━━━━━━━━━━━━━━━━━┳━━━━━━━━━━━━━━━━━━━━━━━━┳━━━━━━━━━━━━━━━┓\n",
              "┃\u001b[1m \u001b[0m\u001b[1mLayer (type)                   \u001b[0m\u001b[1m \u001b[0m┃\u001b[1m \u001b[0m\u001b[1mOutput Shape          \u001b[0m\u001b[1m \u001b[0m┃\u001b[1m \u001b[0m\u001b[1m      Param #\u001b[0m\u001b[1m \u001b[0m┃\n",
              "┡━━━━━━━━━━━━━━━━━━━━━━━━━━━━━━━━━╇━━━━━━━━━━━━━━━━━━━━━━━━╇━━━━━━━━━━━━━━━┩\n",
              "│ lstm_1 (\u001b[38;5;33mLSTM\u001b[0m)                   │ (\u001b[38;5;45mNone\u001b[0m, \u001b[38;5;34m1\u001b[0m, \u001b[38;5;34m50\u001b[0m)          │        \u001b[38;5;34m10,400\u001b[0m │\n",
              "├─────────────────────────────────┼────────────────────────┼───────────────┤\n",
              "│ time_distributed_1              │ (\u001b[38;5;45mNone\u001b[0m, \u001b[38;5;34m1\u001b[0m, \u001b[38;5;34m50\u001b[0m)          │         \u001b[38;5;34m2,550\u001b[0m │\n",
              "│ (\u001b[38;5;33mTimeDistributed\u001b[0m)               │                        │               │\n",
              "├─────────────────────────────────┼────────────────────────┼───────────────┤\n",
              "│ dense_3 (\u001b[38;5;33mDense\u001b[0m)                 │ (\u001b[38;5;45mNone\u001b[0m, \u001b[38;5;34m1\u001b[0m, \u001b[38;5;34m10\u001b[0m)          │           \u001b[38;5;34m510\u001b[0m │\n",
              "└─────────────────────────────────┴────────────────────────┴───────────────┘\n"
            ],
            "text/html": [
              "<pre style=\"white-space:pre;overflow-x:auto;line-height:normal;font-family:Menlo,'DejaVu Sans Mono',consolas,'Courier New',monospace\">┏━━━━━━━━━━━━━━━━━━━━━━━━━━━━━━━━━┳━━━━━━━━━━━━━━━━━━━━━━━━┳━━━━━━━━━━━━━━━┓\n",
              "┃<span style=\"font-weight: bold\"> Layer (type)                    </span>┃<span style=\"font-weight: bold\"> Output Shape           </span>┃<span style=\"font-weight: bold\">       Param # </span>┃\n",
              "┡━━━━━━━━━━━━━━━━━━━━━━━━━━━━━━━━━╇━━━━━━━━━━━━━━━━━━━━━━━━╇━━━━━━━━━━━━━━━┩\n",
              "│ lstm_1 (<span style=\"color: #0087ff; text-decoration-color: #0087ff\">LSTM</span>)                   │ (<span style=\"color: #00d7ff; text-decoration-color: #00d7ff\">None</span>, <span style=\"color: #00af00; text-decoration-color: #00af00\">1</span>, <span style=\"color: #00af00; text-decoration-color: #00af00\">50</span>)          │        <span style=\"color: #00af00; text-decoration-color: #00af00\">10,400</span> │\n",
              "├─────────────────────────────────┼────────────────────────┼───────────────┤\n",
              "│ time_distributed_1              │ (<span style=\"color: #00d7ff; text-decoration-color: #00d7ff\">None</span>, <span style=\"color: #00af00; text-decoration-color: #00af00\">1</span>, <span style=\"color: #00af00; text-decoration-color: #00af00\">50</span>)          │         <span style=\"color: #00af00; text-decoration-color: #00af00\">2,550</span> │\n",
              "│ (<span style=\"color: #0087ff; text-decoration-color: #0087ff\">TimeDistributed</span>)               │                        │               │\n",
              "├─────────────────────────────────┼────────────────────────┼───────────────┤\n",
              "│ dense_3 (<span style=\"color: #0087ff; text-decoration-color: #0087ff\">Dense</span>)                 │ (<span style=\"color: #00d7ff; text-decoration-color: #00d7ff\">None</span>, <span style=\"color: #00af00; text-decoration-color: #00af00\">1</span>, <span style=\"color: #00af00; text-decoration-color: #00af00\">10</span>)          │           <span style=\"color: #00af00; text-decoration-color: #00af00\">510</span> │\n",
              "└─────────────────────────────────┴────────────────────────┴───────────────┘\n",
              "</pre>\n"
            ]
          },
          "metadata": {}
        },
        {
          "output_type": "display_data",
          "data": {
            "text/plain": [
              "\u001b[1m Total params: \u001b[0m\u001b[38;5;34m13,460\u001b[0m (52.58 KB)\n"
            ],
            "text/html": [
              "<pre style=\"white-space:pre;overflow-x:auto;line-height:normal;font-family:Menlo,'DejaVu Sans Mono',consolas,'Courier New',monospace\"><span style=\"font-weight: bold\"> Total params: </span><span style=\"color: #00af00; text-decoration-color: #00af00\">13,460</span> (52.58 KB)\n",
              "</pre>\n"
            ]
          },
          "metadata": {}
        },
        {
          "output_type": "display_data",
          "data": {
            "text/plain": [
              "\u001b[1m Trainable params: \u001b[0m\u001b[38;5;34m13,460\u001b[0m (52.58 KB)\n"
            ],
            "text/html": [
              "<pre style=\"white-space:pre;overflow-x:auto;line-height:normal;font-family:Menlo,'DejaVu Sans Mono',consolas,'Courier New',monospace\"><span style=\"font-weight: bold\"> Trainable params: </span><span style=\"color: #00af00; text-decoration-color: #00af00\">13,460</span> (52.58 KB)\n",
              "</pre>\n"
            ]
          },
          "metadata": {}
        },
        {
          "output_type": "display_data",
          "data": {
            "text/plain": [
              "\u001b[1m Non-trainable params: \u001b[0m\u001b[38;5;34m0\u001b[0m (0.00 B)\n"
            ],
            "text/html": [
              "<pre style=\"white-space:pre;overflow-x:auto;line-height:normal;font-family:Menlo,'DejaVu Sans Mono',consolas,'Courier New',monospace\"><span style=\"font-weight: bold\"> Non-trainable params: </span><span style=\"color: #00af00; text-decoration-color: #00af00\">0</span> (0.00 B)\n",
              "</pre>\n"
            ]
          },
          "metadata": {}
        }
      ]
    },
    {
      "cell_type": "code",
      "metadata": {
        "colab": {
          "base_uri": "https://localhost:8080/"
        },
        "id": "6a8901c0",
        "outputId": "1924f675-ea06-4af1-fed9-115bf3aa2d42"
      },
      "source": [
        "from tensorflow.keras.preprocessing.sequence import pad_sequences\n",
        "from tensorflow.keras.optimizers import Adam\n",
        "import numpy as np # Import numpy again as it might not be available in this block's scope\n",
        "\n",
        "# Compile the model\n",
        "model.compile(optimizer=Adam(learning_rate=0.001), loss='mean_squared_error')\n",
        "\n",
        "# Pad the output sequences to a uniform length of 10 and reshape to (num_samples, 1, 10)\n",
        "# to match the model's output shape (None, 1, 10)\n",
        "padded_output_sequences_reshaped = np.zeros((len(output_sequences), 1, 10), dtype='float32')\n",
        "for i, seq in enumerate(output_sequences):\n",
        "    # Pad or truncate the sequence to length 10\n",
        "    if len(seq) > 10:\n",
        "        padded_seq = seq[:10]\n",
        "    else:\n",
        "        padded_seq = np.pad(seq, (0, 10 - len(seq)), 'constant')\n",
        "    padded_output_sequences_reshaped[i, 0, :] = padded_seq\n",
        "\n",
        "# Reshape input_sequences to match the model's expected input shape (num_samples, 1, 1)\n",
        "input_sequences_reshaped = input_sequences.reshape((input_sequences.shape[0], 1, input_sequences.shape[1]))\n",
        "\n",
        "# Train the model\n",
        "history = model.fit(input_sequences_reshaped, padded_output_sequences_reshaped, epochs=100, batch_size=1, verbose=0)\n",
        "\n",
        "# Store the training history\n",
        "training_loss = history.history['loss']\n",
        "\n",
        "# Print message and final training loss\n",
        "print(\"Pelatihan Selesai.\")\n",
        "print(f\"Final Training Loss: {training_loss[-1]:.4f}\")"
      ],
      "execution_count": 7,
      "outputs": [
        {
          "output_type": "stream",
          "name": "stdout",
          "text": [
            "Pelatihan Selesai.\n",
            "Final Training Loss: 474.2554\n"
          ]
        }
      ]
    },
    {
      "cell_type": "code",
      "metadata": {
        "colab": {
          "base_uri": "https://localhost:8080/"
        },
        "id": "a2640c32",
        "outputId": "770d75ed-f290-49d1-8e2a-0d7801a09793"
      },
      "source": [
        "# Define a new input sequence\n",
        "new_input_sequence = np.array([[6]])\n",
        "\n",
        "# Reshape the new input sequence to match the model's expected input shape (batch_size, timesteps, features)\n",
        "# The shape is (1, 1, 1) for a single input example\n",
        "new_input_sequence_reshaped = new_input_sequence.reshape((1, 1, 1))\n",
        "\n",
        "# Use the trained model to predict the output sequence\n",
        "predicted_output = model.predict(new_input_sequence_reshaped)\n",
        "\n",
        "# The prediction will be in the shape (batch_size, 1, 10). Flatten this output.\n",
        "predicted_output_flat = predicted_output.flatten()\n",
        "\n",
        "# Print the new input sequence and the corresponding predicted output sequence\n",
        "print(\"New Input Sequence:\")\n",
        "print(new_input_sequence)\n",
        "print(\"\\nPredicted Output Sequence:\")\n",
        "print(predicted_output_flat)"
      ],
      "execution_count": 8,
      "outputs": [
        {
          "output_type": "stream",
          "name": "stdout",
          "text": [
            "\u001b[1m1/1\u001b[0m \u001b[32m━━━━━━━━━━━━━━━━━━━━\u001b[0m\u001b[37m\u001b[0m \u001b[1m0s\u001b[0m 239ms/step\n",
            "New Input Sequence:\n",
            "[[6]]\n",
            "\n",
            "Predicted Output Sequence:\n",
            "[ 9.6682442e+01  6.4078529e+01  4.6185112e+01  3.2537781e+01\n",
            " -1.1775225e-02  3.7067644e-02  1.4545664e-01 -2.2508757e-01\n",
            " -1.5030907e-01  5.3136557e-02]\n"
          ]
        }
      ]
    }
  ]
}